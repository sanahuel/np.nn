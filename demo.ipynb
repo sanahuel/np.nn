{
 "cells": [
  {
   "attachments": {},
   "cell_type": "markdown",
   "metadata": {},
   "source": [
    "# Moon dataset"
   ]
  },
  {
   "attachments": {},
   "cell_type": "markdown",
   "metadata": {},
   "source": [
    "## Import data"
   ]
  },
  {
   "cell_type": "code",
   "execution_count": 61,
   "metadata": {},
   "outputs": [],
   "source": [
    "from sklearn.datasets import make_moons\n",
    "from sklearn.model_selection import train_test_split\n",
    "import numpy as np\n",
    "\n",
    "X, Y = make_moons(n_samples=1000, noise=0.1)\n",
    "\n",
    "# one hot encoding Y\n",
    "Y_2 = []\n",
    "for idx, y in enumerate(Y):\n",
    "    if y == 0:\n",
    "        Y_2.append(np.array([1,0]))\n",
    "    else:\n",
    "        Y_2.append(np.array([0,1]))\n",
    "\n",
    "# reshape to np arrays\n",
    "X = np.reshape(X,(len(X),2,1))\n",
    "Y = np.reshape(Y_2,(len(Y_2),2,1))\n",
    "\n",
    "Xtrain, Xtest, Ytrain, Ytest = train_test_split(X,Y, test_size=0.2)"
   ]
  },
  {
   "attachments": {},
   "cell_type": "markdown",
   "metadata": {},
   "source": [
    "## Train"
   ]
  },
  {
   "cell_type": "code",
   "execution_count": 62,
   "metadata": {},
   "outputs": [
    {
     "name": "stdout",
     "output_type": "stream",
     "text": [
      "Training for 100 epochs...\n",
      "Epoch 0 accuracy:  52.375%\n",
      "Epoch 1 accuracy:  66.625%\n",
      "Epoch 2 accuracy:  79.250%\n",
      "Epoch 3 accuracy:  80.500%\n",
      "Epoch 4 accuracy:  81.625%\n",
      "Epoch 5 accuracy:  83.125%\n",
      "Epoch 6 accuracy:  84.375%\n",
      "Epoch 7 accuracy:  85.250%\n",
      "Epoch 8 accuracy:  86.000%\n",
      "Epoch 9 accuracy:  86.500%\n",
      "Epoch 10 accuracy:  87.000%\n",
      "Epoch 11 accuracy:  87.125%\n",
      "Epoch 12 accuracy:  87.250%\n",
      "Epoch 13 accuracy:  87.125%\n",
      "Epoch 14 accuracy:  87.125%\n",
      "Epoch 15 accuracy:  87.250%\n",
      "Epoch 16 accuracy:  87.250%\n",
      "Epoch 17 accuracy:  87.250%\n",
      "Epoch 18 accuracy:  87.375%\n",
      "Epoch 19 accuracy:  87.375%\n",
      "Epoch 20 accuracy:  87.375%\n",
      "Epoch 21 accuracy:  87.500%\n",
      "Epoch 22 accuracy:  87.625%\n",
      "Epoch 23 accuracy:  87.625%\n",
      "Epoch 24 accuracy:  87.625%\n",
      "Epoch 25 accuracy:  87.500%\n",
      "Epoch 26 accuracy:  87.500%\n",
      "Epoch 27 accuracy:  87.500%\n",
      "Epoch 28 accuracy:  87.500%\n",
      "Epoch 29 accuracy:  87.500%\n",
      "Epoch 30 accuracy:  87.500%\n",
      "Epoch 31 accuracy:  87.500%\n",
      "Epoch 32 accuracy:  87.500%\n",
      "Epoch 33 accuracy:  87.500%\n",
      "Epoch 34 accuracy:  87.500%\n",
      "Epoch 35 accuracy:  87.500%\n",
      "Epoch 36 accuracy:  87.500%\n",
      "Epoch 37 accuracy:  87.500%\n",
      "Epoch 38 accuracy:  87.500%\n",
      "Epoch 39 accuracy:  87.500%\n",
      "Epoch 40 accuracy:  87.500%\n",
      "Epoch 41 accuracy:  87.500%\n",
      "Epoch 42 accuracy:  87.500%\n",
      "Epoch 43 accuracy:  87.500%\n",
      "Epoch 44 accuracy:  87.500%\n",
      "Epoch 45 accuracy:  87.500%\n",
      "Epoch 46 accuracy:  87.500%\n",
      "Epoch 47 accuracy:  87.500%\n",
      "Epoch 48 accuracy:  87.500%\n",
      "Epoch 49 accuracy:  87.500%\n",
      "Epoch 50 accuracy:  87.500%\n",
      "Epoch 51 accuracy:  87.500%\n",
      "Epoch 52 accuracy:  87.500%\n",
      "Epoch 53 accuracy:  87.500%\n",
      "Epoch 54 accuracy:  87.500%\n",
      "Epoch 55 accuracy:  87.500%\n",
      "Epoch 56 accuracy:  87.500%\n",
      "Epoch 57 accuracy:  87.500%\n",
      "Epoch 58 accuracy:  87.500%\n",
      "Epoch 59 accuracy:  87.500%\n",
      "Epoch 60 accuracy:  87.500%\n",
      "Epoch 61 accuracy:  87.500%\n",
      "Epoch 62 accuracy:  87.500%\n",
      "Epoch 63 accuracy:  87.500%\n",
      "Epoch 64 accuracy:  87.500%\n",
      "Epoch 65 accuracy:  87.500%\n",
      "Epoch 66 accuracy:  87.500%\n",
      "Epoch 67 accuracy:  87.500%\n",
      "Epoch 68 accuracy:  87.500%\n",
      "Epoch 69 accuracy:  87.500%\n",
      "Epoch 70 accuracy:  87.500%\n",
      "Epoch 71 accuracy:  87.500%\n",
      "Epoch 72 accuracy:  87.500%\n",
      "Epoch 73 accuracy:  87.500%\n",
      "Epoch 74 accuracy:  87.500%\n",
      "Epoch 75 accuracy:  87.500%\n",
      "Epoch 76 accuracy:  87.500%\n",
      "Epoch 77 accuracy:  87.500%\n",
      "Epoch 78 accuracy:  87.500%\n",
      "Epoch 79 accuracy:  87.500%\n",
      "Epoch 80 accuracy:  87.500%\n",
      "Epoch 81 accuracy:  87.500%\n",
      "Epoch 82 accuracy:  87.500%\n",
      "Epoch 83 accuracy:  87.500%\n",
      "Epoch 84 accuracy:  87.500%\n",
      "Epoch 85 accuracy:  87.500%\n",
      "Epoch 86 accuracy:  87.500%\n",
      "Epoch 87 accuracy:  87.500%\n",
      "Epoch 88 accuracy:  87.500%\n",
      "Epoch 89 accuracy:  87.500%\n",
      "Epoch 90 accuracy:  87.500%\n",
      "Epoch 91 accuracy:  87.500%\n",
      "Epoch 92 accuracy:  87.500%\n",
      "Epoch 93 accuracy:  87.500%\n",
      "Epoch 94 accuracy:  87.500%\n",
      "Epoch 95 accuracy:  87.500%\n",
      "Epoch 96 accuracy:  87.500%\n",
      "Epoch 97 accuracy:  87.500%\n",
      "Epoch 98 accuracy:  87.500%\n",
      "Epoch 99 accuracy:  87.500%\n"
     ]
    }
   ],
   "source": [
    "from nn.model import NN\n",
    "\n",
    "nn = NN(layers=[2,16,2], function='relu')\n",
    "nn.train(Xtrain,Ytrain, epochs=100, lr=0.01)"
   ]
  },
  {
   "attachments": {},
   "cell_type": "markdown",
   "metadata": {},
   "source": [
    "## Test"
   ]
  },
  {
   "cell_type": "code",
   "execution_count": 63,
   "metadata": {},
   "outputs": [
    {
     "name": "stdout",
     "output_type": "stream",
     "text": [
      "Test accuracy:  91.000%\n"
     ]
    }
   ],
   "source": [
    "nn.test(Xtest,Ytest)"
   ]
  },
  {
   "attachments": {},
   "cell_type": "markdown",
   "metadata": {},
   "source": [
    "# MNIST dataset"
   ]
  },
  {
   "attachments": {},
   "cell_type": "markdown",
   "metadata": {},
   "source": [
    "## Import data"
   ]
  },
  {
   "cell_type": "code",
   "execution_count": 40,
   "metadata": {},
   "outputs": [],
   "source": [
    "from sklearn.datasets import load_digits\n",
    "from sklearn.model_selection import train_test_split\n",
    "\n",
    "X,Y = load_digits(return_X_y=True)\n",
    "\n",
    "# one hot encoding Y\n",
    "Y_2 = []\n",
    "for idx, y in enumerate(Y):\n",
    "    if y == 0:\n",
    "        Y_2.append(np.array([1,0,0,0,0,0,0,0,0,0]))\n",
    "    elif y == 1:\n",
    "        Y_2.append(np.array([0,1,0,0,0,0,0,0,0,0]))\n",
    "    elif y == 2:\n",
    "        Y_2.append(np.array([0,0,1,0,0,0,0,0,0,0]))\n",
    "    elif y == 3:\n",
    "        Y_2.append(np.array([0,0,0,1,0,0,0,0,0,0]))\n",
    "    elif y == 4:\n",
    "        Y_2.append(np.array([0,0,0,0,1,0,0,0,0,0]))\n",
    "    elif y == 5:\n",
    "        Y_2.append(np.array([0,0,0,0,0,1,0,0,0,0]))\n",
    "    elif y == 6:\n",
    "        Y_2.append(np.array([0,0,0,0,0,0,1,0,0,0]))\n",
    "    elif y == 7:\n",
    "        Y_2.append(np.array([0,0,0,0,0,0,0,1,0,0]))\n",
    "    elif y == 8:\n",
    "        Y_2.append(np.array([0,0,0,0,0,0,0,0,1,0]))\n",
    "    elif y == 9:\n",
    "        Y_2.append(np.array([0,0,0,0,0,0,0,0,0,1]))\n",
    "\n",
    "\n",
    "# reshape to np arrays\n",
    "X = np.reshape(X,(len(X),64,1))\n",
    "Y = np.reshape(Y_2,(len(Y_2),10,1))\n",
    "\n",
    "Xtrain, Xtest, Ytrain, Ytest = train_test_split(X,Y, test_size=0.2)"
   ]
  },
  {
   "attachments": {},
   "cell_type": "markdown",
   "metadata": {},
   "source": [
    "## Train"
   ]
  },
  {
   "cell_type": "code",
   "execution_count": 47,
   "metadata": {},
   "outputs": [
    {
     "name": "stdout",
     "output_type": "stream",
     "text": [
      "Training for 50 epochs...\n",
      "Epoch 0 accuracy:  18.789%\n",
      "Epoch 1 accuracy:  55.254%\n",
      "Epoch 2 accuracy:  73.904%\n",
      "Epoch 3 accuracy:  80.167%\n",
      "Epoch 4 accuracy:  83.368%\n",
      "Epoch 5 accuracy:  85.108%\n",
      "Epoch 6 accuracy:  87.265%\n",
      "Epoch 7 accuracy:  88.727%\n",
      "Epoch 8 accuracy:  90.188%\n",
      "Epoch 9 accuracy:  90.745%\n",
      "Epoch 10 accuracy:  91.788%\n",
      "Epoch 11 accuracy:  92.484%\n",
      "Epoch 12 accuracy:  93.180%\n",
      "Epoch 13 accuracy:  93.667%\n",
      "Epoch 14 accuracy:  94.294%\n",
      "Epoch 15 accuracy:  94.502%\n",
      "Epoch 16 accuracy:  94.781%\n",
      "Epoch 17 accuracy:  95.129%\n",
      "Epoch 18 accuracy:  95.407%\n",
      "Epoch 19 accuracy:  95.407%\n",
      "Epoch 20 accuracy:  95.685%\n",
      "Epoch 21 accuracy:  95.755%\n",
      "Epoch 22 accuracy:  95.894%\n",
      "Epoch 23 accuracy:  96.242%\n",
      "Epoch 24 accuracy:  96.451%\n",
      "Epoch 25 accuracy:  96.660%\n",
      "Epoch 26 accuracy:  97.077%\n",
      "Epoch 27 accuracy:  97.077%\n",
      "Epoch 28 accuracy:  97.286%\n",
      "Epoch 29 accuracy:  97.216%\n",
      "Epoch 30 accuracy:  97.216%\n",
      "Epoch 31 accuracy:  97.425%\n",
      "Epoch 32 accuracy:  97.634%\n",
      "Epoch 33 accuracy:  97.704%\n",
      "Epoch 34 accuracy:  97.982%\n",
      "Epoch 35 accuracy:  98.330%\n",
      "Epoch 36 accuracy:  98.469%\n",
      "Epoch 37 accuracy:  98.399%\n",
      "Epoch 38 accuracy:  98.539%\n",
      "Epoch 39 accuracy:  98.191%\n",
      "Epoch 40 accuracy:  98.051%\n",
      "Epoch 41 accuracy:  98.260%\n",
      "Epoch 42 accuracy:  97.982%\n",
      "Epoch 43 accuracy:  98.051%\n",
      "Epoch 44 accuracy:  98.121%\n",
      "Epoch 45 accuracy:  98.469%\n",
      "Epoch 46 accuracy:  98.399%\n",
      "Epoch 47 accuracy:  98.399%\n",
      "Epoch 48 accuracy:  98.469%\n",
      "Epoch 49 accuracy:  98.469%\n"
     ]
    }
   ],
   "source": [
    "nn = NN(layers=[64,128,64,10], function='relu')\n",
    "nn.train(Xtrain,Ytrain, epochs=50, lr=0.01)"
   ]
  },
  {
   "attachments": {},
   "cell_type": "markdown",
   "metadata": {},
   "source": [
    "## Test"
   ]
  },
  {
   "cell_type": "code",
   "execution_count": 48,
   "metadata": {},
   "outputs": [
    {
     "name": "stdout",
     "output_type": "stream",
     "text": [
      "Test accuracy:  93.333%\n"
     ]
    }
   ],
   "source": [
    "nn.test(Xtest,Ytest)"
   ]
  }
 ],
 "metadata": {
  "kernelspec": {
   "display_name": "Trabajo",
   "language": "python",
   "name": "python3"
  },
  "language_info": {
   "codemirror_mode": {
    "name": "ipython",
    "version": 3
   },
   "file_extension": ".py",
   "mimetype": "text/x-python",
   "name": "python",
   "nbconvert_exporter": "python",
   "pygments_lexer": "ipython3",
   "version": "3.10.4"
  },
  "orig_nbformat": 4,
  "vscode": {
   "interpreter": {
    "hash": "f47fc5675075274d57a4032ad4de193cdb0fb56acbb272e441e696c6ad6667ea"
   }
  }
 },
 "nbformat": 4,
 "nbformat_minor": 2
}
