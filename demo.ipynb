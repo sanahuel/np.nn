{
 "cells": [
  {
   "attachments": {},
   "cell_type": "markdown",
   "metadata": {},
   "source": [
    "# Moon dataset"
   ]
  },
  {
   "attachments": {},
   "cell_type": "markdown",
   "metadata": {},
   "source": [
    "## Import data"
   ]
  },
  {
   "cell_type": "code",
   "execution_count": 1,
   "metadata": {},
   "outputs": [],
   "source": [
    "from sklearn.datasets import make_moons\n",
    "from sklearn.model_selection import train_test_split\n",
    "import numpy as np\n",
    "\n",
    "X, Y = make_moons(n_samples=1000, noise=0.1)\n",
    "\n",
    "# one hot encoding Y\n",
    "Y_2 = []\n",
    "for idx, y in enumerate(Y):\n",
    "    if y == 0:\n",
    "        Y_2.append(np.array([1,0]))\n",
    "    else:\n",
    "        Y_2.append(np.array([0,1]))\n",
    "\n",
    "# reshape to np arrays\n",
    "X = np.reshape(X,(len(X),2,1))\n",
    "Y = np.reshape(Y_2,(len(Y_2),2,1))\n",
    "\n",
    "Xtrain, Xtest, Ytrain, Ytest = train_test_split(X,Y, test_size=0.2)"
   ]
  },
  {
   "attachments": {},
   "cell_type": "markdown",
   "metadata": {},
   "source": [
    "## Train"
   ]
  },
  {
   "cell_type": "code",
   "execution_count": 2,
   "metadata": {},
   "outputs": [
    {
     "name": "stdout",
     "output_type": "stream",
     "text": [
      "Training for 100 epochs...\n",
      "Epoch 0 accuracy:  77.375%\n",
      "Epoch 1 accuracy:  84.750%\n",
      "Epoch 2 accuracy:  84.875%\n",
      "Epoch 3 accuracy:  85.750%\n",
      "Epoch 4 accuracy:  86.875%\n",
      "Epoch 5 accuracy:  87.375%\n",
      "Epoch 6 accuracy:  87.750%\n",
      "Epoch 7 accuracy:  87.750%\n",
      "Epoch 8 accuracy:  88.375%\n",
      "Epoch 9 accuracy:  88.500%\n",
      "Epoch 10 accuracy:  88.625%\n",
      "Epoch 11 accuracy:  89.000%\n",
      "Epoch 12 accuracy:  89.000%\n",
      "Epoch 13 accuracy:  89.250%\n",
      "Epoch 14 accuracy:  89.125%\n",
      "Epoch 15 accuracy:  89.250%\n",
      "Epoch 16 accuracy:  89.375%\n",
      "Epoch 17 accuracy:  89.125%\n",
      "Epoch 18 accuracy:  89.125%\n",
      "Epoch 19 accuracy:  89.875%\n",
      "Epoch 20 accuracy:  89.875%\n",
      "Epoch 21 accuracy:  89.875%\n",
      "Epoch 22 accuracy:  89.875%\n",
      "Epoch 23 accuracy:  89.875%\n",
      "Epoch 24 accuracy:  90.000%\n",
      "Epoch 25 accuracy:  89.875%\n",
      "Epoch 26 accuracy:  89.875%\n",
      "Epoch 27 accuracy:  90.000%\n",
      "Epoch 28 accuracy:  90.250%\n",
      "Epoch 29 accuracy:  90.625%\n",
      "Epoch 30 accuracy:  90.750%\n",
      "Epoch 31 accuracy:  90.750%\n",
      "Epoch 32 accuracy:  91.000%\n",
      "Epoch 33 accuracy:  91.000%\n",
      "Epoch 34 accuracy:  91.250%\n",
      "Epoch 35 accuracy:  91.500%\n",
      "Epoch 36 accuracy:  91.500%\n",
      "Epoch 37 accuracy:  91.500%\n",
      "Epoch 38 accuracy:  91.625%\n",
      "Epoch 39 accuracy:  92.000%\n",
      "Epoch 40 accuracy:  92.125%\n",
      "Epoch 41 accuracy:  92.250%\n",
      "Epoch 42 accuracy:  92.500%\n",
      "Epoch 43 accuracy:  92.500%\n",
      "Epoch 44 accuracy:  92.500%\n",
      "Epoch 45 accuracy:  92.625%\n",
      "Epoch 46 accuracy:  92.625%\n",
      "Epoch 47 accuracy:  92.750%\n",
      "Epoch 48 accuracy:  92.750%\n",
      "Epoch 49 accuracy:  92.750%\n",
      "Epoch 50 accuracy:  93.125%\n",
      "Epoch 51 accuracy:  93.250%\n",
      "Epoch 52 accuracy:  93.375%\n",
      "Epoch 53 accuracy:  93.625%\n",
      "Epoch 54 accuracy:  93.875%\n",
      "Epoch 55 accuracy:  94.375%\n",
      "Epoch 56 accuracy:  94.625%\n",
      "Epoch 57 accuracy:  94.750%\n",
      "Epoch 58 accuracy:  95.250%\n",
      "Epoch 59 accuracy:  95.500%\n",
      "Epoch 60 accuracy:  95.500%\n",
      "Epoch 61 accuracy:  95.875%\n",
      "Epoch 62 accuracy:  96.125%\n",
      "Epoch 63 accuracy:  96.500%\n",
      "Epoch 64 accuracy:  96.500%\n",
      "Epoch 65 accuracy:  96.750%\n",
      "Epoch 66 accuracy:  97.000%\n",
      "Epoch 67 accuracy:  97.125%\n",
      "Epoch 68 accuracy:  97.375%\n",
      "Epoch 69 accuracy:  97.750%\n",
      "Epoch 70 accuracy:  97.875%\n",
      "Epoch 71 accuracy:  98.000%\n",
      "Epoch 72 accuracy:  98.000%\n",
      "Epoch 73 accuracy:  98.125%\n",
      "Epoch 74 accuracy:  98.125%\n",
      "Epoch 75 accuracy:  98.250%\n",
      "Epoch 76 accuracy:  98.250%\n",
      "Epoch 77 accuracy:  98.375%\n",
      "Epoch 78 accuracy:  98.375%\n",
      "Epoch 79 accuracy:  98.375%\n",
      "Epoch 80 accuracy:  98.375%\n",
      "Epoch 81 accuracy:  98.500%\n",
      "Epoch 82 accuracy:  98.625%\n",
      "Epoch 83 accuracy:  98.625%\n",
      "Epoch 84 accuracy:  98.625%\n",
      "Epoch 85 accuracy:  98.625%\n",
      "Epoch 86 accuracy:  98.625%\n",
      "Epoch 87 accuracy:  98.625%\n",
      "Epoch 88 accuracy:  98.750%\n",
      "Epoch 89 accuracy:  98.875%\n",
      "Epoch 90 accuracy:  98.875%\n",
      "Epoch 91 accuracy:  99.000%\n",
      "Epoch 92 accuracy:  99.000%\n",
      "Epoch 93 accuracy:  99.125%\n",
      "Epoch 94 accuracy:  99.125%\n",
      "Epoch 95 accuracy:  99.125%\n",
      "Epoch 96 accuracy:  99.125%\n",
      "Epoch 97 accuracy:  99.250%\n",
      "Epoch 98 accuracy:  99.250%\n",
      "Epoch 99 accuracy:  99.250%\n"
     ]
    }
   ],
   "source": [
    "from nn.model import NN\n",
    "\n",
    "nn = NN(layers=[2,16,2], function='relu')\n",
    "nn.train(Xtrain,Ytrain, epochs=100, lr=0.01)"
   ]
  },
  {
   "attachments": {},
   "cell_type": "markdown",
   "metadata": {},
   "source": [
    "## Test"
   ]
  },
  {
   "cell_type": "code",
   "execution_count": 3,
   "metadata": {},
   "outputs": [
    {
     "name": "stdout",
     "output_type": "stream",
     "text": [
      "Test accuracy:  99.500%\n"
     ]
    }
   ],
   "source": [
    "nn.test(Xtest,Ytest)"
   ]
  },
  {
   "attachments": {},
   "cell_type": "markdown",
   "metadata": {},
   "source": [
    "# MNIST dataset"
   ]
  },
  {
   "attachments": {},
   "cell_type": "markdown",
   "metadata": {},
   "source": [
    "## Import data"
   ]
  },
  {
   "cell_type": "code",
   "execution_count": 4,
   "metadata": {},
   "outputs": [],
   "source": [
    "from sklearn.datasets import load_digits\n",
    "from sklearn.model_selection import train_test_split\n",
    "\n",
    "X,Y = load_digits(return_X_y=True)\n",
    "\n",
    "# one hot encoding Y\n",
    "Y_2 = []\n",
    "for idx, y in enumerate(Y):\n",
    "    if y == 0:\n",
    "        Y_2.append(np.array([1,0,0,0,0,0,0,0,0,0]))\n",
    "    elif y == 1:\n",
    "        Y_2.append(np.array([0,1,0,0,0,0,0,0,0,0]))\n",
    "    elif y == 2:\n",
    "        Y_2.append(np.array([0,0,1,0,0,0,0,0,0,0]))\n",
    "    elif y == 3:\n",
    "        Y_2.append(np.array([0,0,0,1,0,0,0,0,0,0]))\n",
    "    elif y == 4:\n",
    "        Y_2.append(np.array([0,0,0,0,1,0,0,0,0,0]))\n",
    "    elif y == 5:\n",
    "        Y_2.append(np.array([0,0,0,0,0,1,0,0,0,0]))\n",
    "    elif y == 6:\n",
    "        Y_2.append(np.array([0,0,0,0,0,0,1,0,0,0]))\n",
    "    elif y == 7:\n",
    "        Y_2.append(np.array([0,0,0,0,0,0,0,1,0,0]))\n",
    "    elif y == 8:\n",
    "        Y_2.append(np.array([0,0,0,0,0,0,0,0,1,0]))\n",
    "    elif y == 9:\n",
    "        Y_2.append(np.array([0,0,0,0,0,0,0,0,0,1]))\n",
    "\n",
    "\n",
    "# reshape to np arrays\n",
    "X = np.reshape(X,(len(X),64,1))\n",
    "Y = np.reshape(Y_2,(len(Y_2),10,1))\n",
    "\n",
    "Xtrain, Xtest, Ytrain, Ytest = train_test_split(X,Y, test_size=0.2)"
   ]
  },
  {
   "attachments": {},
   "cell_type": "markdown",
   "metadata": {},
   "source": [
    "## Train"
   ]
  },
  {
   "cell_type": "code",
   "execution_count": 6,
   "metadata": {},
   "outputs": [
    {
     "name": "stdout",
     "output_type": "stream",
     "text": [
      "Training for 100 epochs...\n",
      "Epoch 0 accuracy:  5.289%\n",
      "Epoch 1 accuracy:  11.204%\n",
      "Epoch 2 accuracy:  15.658%\n",
      "Epoch 3 accuracy:  22.129%\n",
      "Epoch 4 accuracy:  29.854%\n",
      "Epoch 5 accuracy:  38.135%\n",
      "Epoch 6 accuracy:  44.328%\n",
      "Epoch 7 accuracy:  48.295%\n",
      "Epoch 8 accuracy:  51.983%\n",
      "Epoch 9 accuracy:  54.697%\n",
      "Epoch 10 accuracy:  58.177%\n",
      "Epoch 11 accuracy:  59.986%\n",
      "Epoch 12 accuracy:  61.935%\n",
      "Epoch 13 accuracy:  63.257%\n",
      "Epoch 14 accuracy:  64.579%\n",
      "Epoch 15 accuracy:  65.275%\n",
      "Epoch 16 accuracy:  66.319%\n",
      "Epoch 17 accuracy:  69.450%\n",
      "Epoch 18 accuracy:  73.765%\n",
      "Epoch 19 accuracy:  77.801%\n",
      "Epoch 20 accuracy:  80.237%\n",
      "Epoch 21 accuracy:  81.768%\n",
      "Epoch 22 accuracy:  82.742%\n",
      "Epoch 23 accuracy:  83.925%\n",
      "Epoch 24 accuracy:  85.317%\n",
      "Epoch 25 accuracy:  86.639%\n",
      "Epoch 26 accuracy:  87.683%\n",
      "Epoch 27 accuracy:  88.657%\n",
      "Epoch 28 accuracy:  88.935%\n",
      "Epoch 29 accuracy:  89.422%\n",
      "Epoch 30 accuracy:  89.979%\n",
      "Epoch 31 accuracy:  90.049%\n",
      "Epoch 32 accuracy:  90.257%\n",
      "Epoch 33 accuracy:  90.605%\n",
      "Epoch 34 accuracy:  90.953%\n",
      "Epoch 35 accuracy:  91.162%\n",
      "Epoch 36 accuracy:  91.232%\n",
      "Epoch 37 accuracy:  91.510%\n",
      "Epoch 38 accuracy:  91.719%\n",
      "Epoch 39 accuracy:  91.928%\n",
      "Epoch 40 accuracy:  92.136%\n",
      "Epoch 41 accuracy:  92.415%\n",
      "Epoch 42 accuracy:  92.624%\n",
      "Epoch 43 accuracy:  92.902%\n",
      "Epoch 44 accuracy:  93.250%\n",
      "Epoch 45 accuracy:  93.389%\n",
      "Epoch 46 accuracy:  93.598%\n",
      "Epoch 47 accuracy:  93.737%\n",
      "Epoch 48 accuracy:  93.807%\n",
      "Epoch 49 accuracy:  94.224%\n",
      "Epoch 50 accuracy:  94.502%\n",
      "Epoch 51 accuracy:  94.572%\n",
      "Epoch 52 accuracy:  94.572%\n",
      "Epoch 53 accuracy:  94.711%\n",
      "Epoch 54 accuracy:  94.711%\n",
      "Epoch 55 accuracy:  94.711%\n",
      "Epoch 56 accuracy:  94.920%\n",
      "Epoch 57 accuracy:  94.990%\n",
      "Epoch 58 accuracy:  95.059%\n",
      "Epoch 59 accuracy:  95.129%\n",
      "Epoch 60 accuracy:  95.268%\n",
      "Epoch 61 accuracy:  95.407%\n",
      "Epoch 62 accuracy:  95.477%\n",
      "Epoch 63 accuracy:  95.685%\n",
      "Epoch 64 accuracy:  95.755%\n",
      "Epoch 65 accuracy:  95.964%\n",
      "Epoch 66 accuracy:  96.103%\n",
      "Epoch 67 accuracy:  96.103%\n",
      "Epoch 68 accuracy:  96.103%\n",
      "Epoch 69 accuracy:  96.173%\n",
      "Epoch 70 accuracy:  96.173%\n",
      "Epoch 71 accuracy:  96.173%\n",
      "Epoch 72 accuracy:  96.242%\n",
      "Epoch 73 accuracy:  96.173%\n",
      "Epoch 74 accuracy:  96.312%\n",
      "Epoch 75 accuracy:  96.312%\n",
      "Epoch 76 accuracy:  96.312%\n",
      "Epoch 77 accuracy:  96.451%\n",
      "Epoch 78 accuracy:  96.521%\n",
      "Epoch 79 accuracy:  96.521%\n",
      "Epoch 80 accuracy:  96.590%\n",
      "Epoch 81 accuracy:  96.729%\n",
      "Epoch 82 accuracy:  96.729%\n",
      "Epoch 83 accuracy:  96.660%\n",
      "Epoch 84 accuracy:  96.660%\n",
      "Epoch 85 accuracy:  96.729%\n",
      "Epoch 86 accuracy:  96.799%\n",
      "Epoch 87 accuracy:  96.868%\n",
      "Epoch 88 accuracy:  96.938%\n",
      "Epoch 89 accuracy:  96.938%\n",
      "Epoch 90 accuracy:  96.938%\n",
      "Epoch 91 accuracy:  96.938%\n",
      "Epoch 92 accuracy:  96.938%\n",
      "Epoch 93 accuracy:  96.938%\n",
      "Epoch 94 accuracy:  96.938%\n",
      "Epoch 95 accuracy:  97.008%\n",
      "Epoch 96 accuracy:  97.008%\n",
      "Epoch 97 accuracy:  97.008%\n",
      "Epoch 98 accuracy:  97.077%\n",
      "Epoch 99 accuracy:  97.077%\n"
     ]
    }
   ],
   "source": [
    "nn = NN(layers=[64,128,64,32,10], function='relu')\n",
    "nn.train(Xtrain,Ytrain, epochs=100, lr=0.0001)"
   ]
  },
  {
   "attachments": {},
   "cell_type": "markdown",
   "metadata": {},
   "source": [
    "## Test"
   ]
  },
  {
   "cell_type": "code",
   "execution_count": 7,
   "metadata": {},
   "outputs": [
    {
     "name": "stdout",
     "output_type": "stream",
     "text": [
      "Test accuracy:  94.722%\n"
     ]
    }
   ],
   "source": [
    "nn.test(Xtest,Ytest)"
   ]
  }
 ],
 "metadata": {
  "kernelspec": {
   "display_name": "prueba",
   "language": "python",
   "name": "python3"
  },
  "language_info": {
   "codemirror_mode": {
    "name": "ipython",
    "version": 3
   },
   "file_extension": ".py",
   "mimetype": "text/x-python",
   "name": "python",
   "nbconvert_exporter": "python",
   "pygments_lexer": "ipython3",
   "version": "3.10.0"
  },
  "orig_nbformat": 4
 },
 "nbformat": 4,
 "nbformat_minor": 2
}
