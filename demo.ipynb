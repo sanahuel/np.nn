{
 "cells": [
  {
   "attachments": {},
   "cell_type": "markdown",
   "metadata": {},
   "source": [
    "# Moon dataset"
   ]
  },
  {
   "attachments": {},
   "cell_type": "markdown",
   "metadata": {},
   "source": [
    "## Import data"
   ]
  },
  {
   "cell_type": "code",
   "execution_count": 16,
   "metadata": {},
   "outputs": [],
   "source": [
    "from sklearn.datasets import make_moons\n",
    "from sklearn.model_selection import train_test_split\n",
    "import numpy as np\n",
    "\n",
    "X, Y = make_moons(n_samples=1000, noise=0.1)\n",
    "\n",
    "# one hot encoding Y\n",
    "Y_2 = []\n",
    "for idx, y in enumerate(Y):\n",
    "    if y == 0:\n",
    "        Y_2.append(np.array([1,0]))\n",
    "    else:\n",
    "        Y_2.append(np.array([0,1]))\n",
    "\n",
    "# reshape to np arrays\n",
    "X = np.reshape(X,(len(X),2,1))\n",
    "Y = np.reshape(Y_2,(len(Y_2),2,1))\n",
    "\n",
    "Xtrain, Xtest, Ytrain, Ytest = train_test_split(X,Y, test_size=0.2)"
   ]
  },
  {
   "attachments": {},
   "cell_type": "markdown",
   "metadata": {},
   "source": [
    "## Train"
   ]
  },
  {
   "cell_type": "code",
   "execution_count": 17,
   "metadata": {},
   "outputs": [
    {
     "name": "stdout",
     "output_type": "stream",
     "text": [
      "Training for 100 epochs...\n",
      "Epoch 0 accuracy:  79.000%\n",
      "Epoch 1 accuracy:  85.750%\n",
      "Epoch 2 accuracy:  87.000%\n",
      "Epoch 3 accuracy:  87.750%\n",
      "Epoch 4 accuracy:  88.125%\n",
      "Epoch 5 accuracy:  88.875%\n",
      "Epoch 6 accuracy:  88.875%\n",
      "Epoch 7 accuracy:  88.875%\n",
      "Epoch 8 accuracy:  88.875%\n",
      "Epoch 9 accuracy:  88.875%\n",
      "Epoch 10 accuracy:  88.875%\n",
      "Epoch 11 accuracy:  88.750%\n",
      "Epoch 12 accuracy:  88.500%\n",
      "Epoch 13 accuracy:  88.625%\n",
      "Epoch 14 accuracy:  88.625%\n",
      "Epoch 15 accuracy:  88.625%\n",
      "Epoch 16 accuracy:  88.625%\n",
      "Epoch 17 accuracy:  88.750%\n",
      "Epoch 18 accuracy:  88.625%\n",
      "Epoch 19 accuracy:  88.625%\n",
      "Epoch 20 accuracy:  88.625%\n",
      "Epoch 21 accuracy:  88.625%\n",
      "Epoch 22 accuracy:  88.625%\n",
      "Epoch 23 accuracy:  88.625%\n",
      "Epoch 24 accuracy:  88.625%\n",
      "Epoch 25 accuracy:  88.750%\n",
      "Epoch 26 accuracy:  88.500%\n",
      "Epoch 27 accuracy:  88.250%\n",
      "Epoch 28 accuracy:  88.125%\n",
      "Epoch 29 accuracy:  88.125%\n",
      "Epoch 30 accuracy:  88.125%\n",
      "Epoch 31 accuracy:  88.125%\n",
      "Epoch 32 accuracy:  88.125%\n",
      "Epoch 33 accuracy:  88.000%\n",
      "Epoch 34 accuracy:  87.875%\n",
      "Epoch 35 accuracy:  87.875%\n",
      "Epoch 36 accuracy:  88.000%\n",
      "Epoch 37 accuracy:  88.000%\n",
      "Epoch 38 accuracy:  88.250%\n",
      "Epoch 39 accuracy:  88.250%\n",
      "Epoch 40 accuracy:  88.250%\n",
      "Epoch 41 accuracy:  88.375%\n",
      "Epoch 42 accuracy:  88.500%\n",
      "Epoch 43 accuracy:  88.500%\n",
      "Epoch 44 accuracy:  88.625%\n",
      "Epoch 45 accuracy:  88.750%\n",
      "Epoch 46 accuracy:  88.750%\n",
      "Epoch 47 accuracy:  88.750%\n",
      "Epoch 48 accuracy:  88.625%\n",
      "Epoch 49 accuracy:  88.750%\n",
      "Epoch 50 accuracy:  88.875%\n",
      "Epoch 51 accuracy:  88.875%\n",
      "Epoch 52 accuracy:  89.000%\n",
      "Epoch 53 accuracy:  89.250%\n",
      "Epoch 54 accuracy:  89.500%\n",
      "Epoch 55 accuracy:  89.625%\n",
      "Epoch 56 accuracy:  89.875%\n",
      "Epoch 57 accuracy:  90.000%\n",
      "Epoch 58 accuracy:  90.250%\n",
      "Epoch 59 accuracy:  90.250%\n",
      "Epoch 60 accuracy:  90.250%\n",
      "Epoch 61 accuracy:  90.250%\n",
      "Epoch 62 accuracy:  90.375%\n",
      "Epoch 63 accuracy:  90.250%\n",
      "Epoch 64 accuracy:  90.375%\n",
      "Epoch 65 accuracy:  90.500%\n",
      "Epoch 66 accuracy:  90.875%\n",
      "Epoch 67 accuracy:  90.875%\n",
      "Epoch 68 accuracy:  91.250%\n",
      "Epoch 69 accuracy:  91.250%\n",
      "Epoch 70 accuracy:  91.250%\n",
      "Epoch 71 accuracy:  91.250%\n",
      "Epoch 72 accuracy:  91.375%\n",
      "Epoch 73 accuracy:  91.375%\n",
      "Epoch 74 accuracy:  91.750%\n",
      "Epoch 75 accuracy:  91.875%\n",
      "Epoch 76 accuracy:  92.250%\n",
      "Epoch 77 accuracy:  92.250%\n",
      "Epoch 78 accuracy:  92.375%\n",
      "Epoch 79 accuracy:  92.375%\n",
      "Epoch 80 accuracy:  92.500%\n",
      "Epoch 81 accuracy:  92.625%\n",
      "Epoch 82 accuracy:  92.750%\n",
      "Epoch 83 accuracy:  92.875%\n",
      "Epoch 84 accuracy:  93.000%\n",
      "Epoch 85 accuracy:  93.000%\n",
      "Epoch 86 accuracy:  93.125%\n",
      "Epoch 87 accuracy:  93.500%\n",
      "Epoch 88 accuracy:  93.625%\n",
      "Epoch 89 accuracy:  93.750%\n",
      "Epoch 90 accuracy:  93.750%\n",
      "Epoch 91 accuracy:  93.875%\n",
      "Epoch 92 accuracy:  93.875%\n",
      "Epoch 93 accuracy:  93.875%\n",
      "Epoch 94 accuracy:  93.875%\n",
      "Epoch 95 accuracy:  93.875%\n",
      "Epoch 96 accuracy:  93.875%\n",
      "Epoch 97 accuracy:  94.000%\n",
      "Epoch 98 accuracy:  94.125%\n",
      "Epoch 99 accuracy:  94.125%\n"
     ]
    }
   ],
   "source": [
    "from nn.model import NN\n",
    "\n",
    "nn = NN(layers=[2,16,2], function='relu')\n",
    "nn.train(Xtrain,Ytrain, epochs=100, lr=0.01)"
   ]
  },
  {
   "attachments": {},
   "cell_type": "markdown",
   "metadata": {},
   "source": [
    "## Test"
   ]
  },
  {
   "cell_type": "code",
   "execution_count": 18,
   "metadata": {},
   "outputs": [
    {
     "name": "stdout",
     "output_type": "stream",
     "text": [
      "Test accuracy:  91.500%\n"
     ]
    }
   ],
   "source": [
    "nn.test(Xtest,Ytest)"
   ]
  },
  {
   "attachments": {},
   "cell_type": "markdown",
   "metadata": {},
   "source": [
    "# MNIST dataset"
   ]
  },
  {
   "attachments": {},
   "cell_type": "markdown",
   "metadata": {},
   "source": [
    "## Import data"
   ]
  },
  {
   "cell_type": "code",
   "execution_count": 32,
   "metadata": {},
   "outputs": [],
   "source": [
    "from sklearn.datasets import load_digits\n",
    "from sklearn.model_selection import train_test_split\n",
    "\n",
    "X,Y = load_digits(return_X_y=True)\n",
    "\n",
    "# one hot encoding Y\n",
    "Y_2 = []\n",
    "for idx, y in enumerate(Y):\n",
    "    if y == 0:\n",
    "        Y_2.append(np.array([1,0,0,0,0,0,0,0,0,0]))\n",
    "    elif y == 1:\n",
    "        Y_2.append(np.array([0,1,0,0,0,0,0,0,0,0]))\n",
    "    elif y == 2:\n",
    "        Y_2.append(np.array([0,0,1,0,0,0,0,0,0,0]))\n",
    "    elif y == 3:\n",
    "        Y_2.append(np.array([0,0,0,1,0,0,0,0,0,0]))\n",
    "    elif y == 4:\n",
    "        Y_2.append(np.array([0,0,0,0,1,0,0,0,0,0]))\n",
    "    elif y == 5:\n",
    "        Y_2.append(np.array([0,0,0,0,0,1,0,0,0,0]))\n",
    "    elif y == 6:\n",
    "        Y_2.append(np.array([0,0,0,0,0,0,1,0,0,0]))\n",
    "    elif y == 7:\n",
    "        Y_2.append(np.array([0,0,0,0,0,0,0,1,0,0]))\n",
    "    elif y == 8:\n",
    "        Y_2.append(np.array([0,0,0,0,0,0,0,0,1,0]))\n",
    "    elif y == 9:\n",
    "        Y_2.append(np.array([0,0,0,0,0,0,0,0,0,1]))\n",
    "\n",
    "\n",
    "# reshape to np arrays\n",
    "X = np.reshape(X,(len(X),64,1))\n",
    "Y = np.reshape(Y_2,(len(Y_2),10,1))\n",
    "\n",
    "Xtrain, Xtest, Ytrain, Ytest = train_test_split(X,Y, test_size=0.2)"
   ]
  },
  {
   "attachments": {},
   "cell_type": "markdown",
   "metadata": {},
   "source": [
    "## Train"
   ]
  },
  {
   "cell_type": "code",
   "execution_count": 34,
   "metadata": {},
   "outputs": [
    {
     "name": "stdout",
     "output_type": "stream",
     "text": [
      "Training for 100 epochs...\n",
      "Epoch 0 accuracy:  48.921%\n",
      "Epoch 1 accuracy:  69.241%\n",
      "Epoch 2 accuracy:  73.347%\n",
      "Epoch 3 accuracy:  76.270%\n",
      "Epoch 4 accuracy:  80.097%\n",
      "Epoch 5 accuracy:  81.489%\n",
      "Epoch 6 accuracy:  81.072%\n",
      "Epoch 7 accuracy:  81.907%\n",
      "Epoch 8 accuracy:  82.533%\n",
      "Epoch 9 accuracy:  83.090%\n",
      "Epoch 10 accuracy:  83.577%\n",
      "Epoch 11 accuracy:  84.134%\n",
      "Epoch 12 accuracy:  84.760%\n",
      "Epoch 13 accuracy:  86.639%\n",
      "Epoch 14 accuracy:  84.273%\n",
      "Epoch 15 accuracy:  85.108%\n",
      "Epoch 16 accuracy:  86.291%\n",
      "Epoch 17 accuracy:  86.152%\n",
      "Epoch 18 accuracy:  86.430%\n",
      "Epoch 19 accuracy:  86.917%\n",
      "Epoch 20 accuracy:  86.987%\n",
      "Epoch 21 accuracy:  87.404%\n",
      "Epoch 22 accuracy:  86.430%\n",
      "Epoch 23 accuracy:  88.031%\n",
      "Epoch 24 accuracy:  87.404%\n",
      "Epoch 25 accuracy:  88.866%\n",
      "Epoch 26 accuracy:  87.752%\n",
      "Epoch 27 accuracy:  86.778%\n",
      "Epoch 28 accuracy:  87.404%\n",
      "Epoch 29 accuracy:  89.144%\n",
      "Epoch 30 accuracy:  87.961%\n",
      "Epoch 31 accuracy:  88.587%\n",
      "Epoch 32 accuracy:  87.613%\n",
      "Epoch 33 accuracy:  88.379%\n",
      "Epoch 34 accuracy:  89.074%\n",
      "Epoch 35 accuracy:  88.518%\n",
      "Epoch 36 accuracy:  88.796%\n",
      "Epoch 37 accuracy:  90.188%\n",
      "Epoch 38 accuracy:  88.796%\n",
      "Epoch 39 accuracy:  89.562%\n",
      "Epoch 40 accuracy:  88.657%\n",
      "Epoch 41 accuracy:  88.796%\n",
      "Epoch 42 accuracy:  88.796%\n",
      "Epoch 43 accuracy:  89.979%\n",
      "Epoch 44 accuracy:  89.979%\n",
      "Epoch 45 accuracy:  88.727%\n",
      "Epoch 46 accuracy:  89.701%\n",
      "Epoch 47 accuracy:  89.214%\n",
      "Epoch 48 accuracy:  89.005%\n",
      "Epoch 49 accuracy:  90.675%\n",
      "Epoch 50 accuracy:  89.492%\n",
      "Epoch 51 accuracy:  89.701%\n",
      "Epoch 52 accuracy:  91.371%\n",
      "Epoch 53 accuracy:  90.536%\n",
      "Epoch 54 accuracy:  90.466%\n",
      "Epoch 55 accuracy:  90.953%\n",
      "Epoch 56 accuracy:  91.162%\n",
      "Epoch 57 accuracy:  90.118%\n",
      "Epoch 58 accuracy:  90.118%\n",
      "Epoch 59 accuracy:  90.675%\n",
      "Epoch 60 accuracy:  91.441%\n",
      "Epoch 61 accuracy:  90.605%\n",
      "Epoch 62 accuracy:  90.536%\n",
      "Epoch 63 accuracy:  89.701%\n",
      "Epoch 64 accuracy:  90.257%\n",
      "Epoch 65 accuracy:  91.719%\n",
      "Epoch 66 accuracy:  89.840%\n",
      "Epoch 67 accuracy:  91.580%\n",
      "Epoch 68 accuracy:  90.397%\n",
      "Epoch 69 accuracy:  91.093%\n",
      "Epoch 70 accuracy:  90.953%\n",
      "Epoch 71 accuracy:  91.232%\n",
      "Epoch 72 accuracy:  90.466%\n",
      "Epoch 73 accuracy:  92.136%\n",
      "Epoch 74 accuracy:  90.884%\n",
      "Epoch 75 accuracy:  91.093%\n",
      "Epoch 76 accuracy:  92.067%\n",
      "Epoch 77 accuracy:  92.206%\n",
      "Epoch 78 accuracy:  92.902%\n",
      "Epoch 79 accuracy:  92.067%\n",
      "Epoch 80 accuracy:  91.510%\n",
      "Epoch 81 accuracy:  92.206%\n",
      "Epoch 82 accuracy:  90.257%\n",
      "Epoch 83 accuracy:  92.345%\n",
      "Epoch 84 accuracy:  90.605%\n",
      "Epoch 85 accuracy:  91.788%\n",
      "Epoch 86 accuracy:  92.136%\n",
      "Epoch 87 accuracy:  92.136%\n",
      "Epoch 88 accuracy:  91.997%\n",
      "Epoch 89 accuracy:  90.953%\n",
      "Epoch 90 accuracy:  91.997%\n",
      "Epoch 91 accuracy:  92.136%\n",
      "Epoch 92 accuracy:  90.953%\n",
      "Epoch 93 accuracy:  92.206%\n",
      "Epoch 94 accuracy:  91.371%\n",
      "Epoch 95 accuracy:  91.719%\n",
      "Epoch 96 accuracy:  92.276%\n",
      "Epoch 97 accuracy:  91.719%\n",
      "Epoch 98 accuracy:  91.858%\n",
      "Epoch 99 accuracy:  91.580%\n"
     ]
    }
   ],
   "source": [
    "nn = NN(layers=[64,128,64,10], function='relu')\n",
    "nn.train(Xtrain,Ytrain, epochs=100, lr=0.01)"
   ]
  },
  {
   "attachments": {},
   "cell_type": "markdown",
   "metadata": {},
   "source": [
    "## Test"
   ]
  },
  {
   "cell_type": "code",
   "execution_count": 35,
   "metadata": {},
   "outputs": [
    {
     "name": "stdout",
     "output_type": "stream",
     "text": [
      "Test accuracy:  88.056%\n"
     ]
    }
   ],
   "source": [
    "nn.test(Xtest,Ytest)"
   ]
  }
 ],
 "metadata": {
  "kernelspec": {
   "display_name": "Trabajo",
   "language": "python",
   "name": "python3"
  },
  "language_info": {
   "codemirror_mode": {
    "name": "ipython",
    "version": 3
   },
   "file_extension": ".py",
   "mimetype": "text/x-python",
   "name": "python",
   "nbconvert_exporter": "python",
   "pygments_lexer": "ipython3",
   "version": "3.10.4"
  },
  "orig_nbformat": 4,
  "vscode": {
   "interpreter": {
    "hash": "f47fc5675075274d57a4032ad4de193cdb0fb56acbb272e441e696c6ad6667ea"
   }
  }
 },
 "nbformat": 4,
 "nbformat_minor": 2
}
